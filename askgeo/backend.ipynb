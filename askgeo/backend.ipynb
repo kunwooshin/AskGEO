{
 "cells": [
  {
   "cell_type": "markdown",
   "metadata": {},
   "source": [
    "#### Postgres Connection"
   ]
  },
  {
   "cell_type": "code",
   "execution_count": 76,
   "metadata": {},
   "outputs": [],
   "source": [
    "# !pip install SQLAlchemy\n",
    "# # !pip install tabulate\n",
    "\n",
    "import psycopg2\n",
    "from openai import OpenAI\n",
    "from dotenv import load_dotenv\n",
    "import os\n",
    "import pandas as pd\n",
    "from util.const import *\n",
    "\n",
    "load_dotenv()\n",
    "\n",
    "HOST = os.getenv('DB_HOST')\n",
    "PORT = os.getenv('DB_PORT')\n",
    "USER = os.getenv('DB_USER')\n",
    "PASSWORD = os.getenv('DB_PASSWORD')\n",
    "DATABASE = os.getenv('DB_NAME')\n",
    "OPENAI_API_KEY = os.getenv(\"OPENAI_API_KEY\")\n"
   ]
  },
  {
   "cell_type": "code",
   "execution_count": 77,
   "metadata": {},
   "outputs": [
    {
     "name": "stdout",
     "output_type": "stream",
     "text": [
      "Database connection successful\n"
     ]
    }
   ],
   "source": [
    "try:\n",
    "    conn = psycopg2.connect(\n",
    "        host=HOST,\n",
    "        port=PORT,\n",
    "        user=USER,\n",
    "        password=PASSWORD,\n",
    "        database=DATABASE\n",
    "    )\n",
    "    print(\"Database connection successful\")\n",
    "    \n",
    "    conn.close()\n",
    "\n",
    "except psycopg2.Error as e:\n",
    "    print(f\"Error connecting to PostgreSQL: {e}\")"
   ]
  },
  {
   "cell_type": "markdown",
   "metadata": {},
   "source": [
    "##### pg_vector, PostGIS extenstion"
   ]
  },
  {
   "cell_type": "code",
   "execution_count": 4,
   "metadata": {},
   "outputs": [
    {
     "name": "stdout",
     "output_type": "stream",
     "text": [
      "PostGIS 및 pgvector 확장이 성공적으로 설치되었습니다.\n"
     ]
    }
   ],
   "source": [
    "try:\n",
    "    conn = psycopg2.connect(\n",
    "        host=HOST,\n",
    "        port=PORT,\n",
    "        user=USER,\n",
    "        password=PASSWORD,\n",
    "        database=DATABASE\n",
    "    )\n",
    "    cur = conn.cursor()\n",
    "\n",
    "    # PostGIS와 pgvector 확장 설치\n",
    "    cur.execute(\"CREATE EXTENSION IF NOT EXISTS postgis;\")\n",
    "    cur.execute(\"CREATE EXTENSION IF NOT EXISTS vector;\")\n",
    "\n",
    "    conn.commit()\n",
    "    print(\"PostGIS 및 pgvector 확장이 성공적으로 설치되었습니다.\")\n",
    "\n",
    "except psycopg2.Error as e:\n",
    "    print(f\"작업 중 오류가 발생했습니다: {e}\")\n",
    "    \n",
    "finally:\n",
    "    if conn:\n",
    "        cur.close()\n",
    "        conn.close()"
   ]
  },
  {
   "cell_type": "code",
   "execution_count": 78,
   "metadata": {},
   "outputs": [
    {
     "name": "stdout",
     "output_type": "stream",
     "text": [
      "plpgsql\n",
      "vector\n",
      "postgis\n"
     ]
    }
   ],
   "source": [
    "conn = psycopg2.connect(\n",
    "    host=HOST,\n",
    "    port=PORT,\n",
    "    user=USER,\n",
    "    password=PASSWORD,\n",
    "    database=DATABASE\n",
    ")\n",
    "cur = conn.cursor()\n",
    "\n",
    "cur.execute(\"SELECT * FROM pg_extension;\")\n",
    "res = cur.fetchall()\n",
    "\n",
    "for data in res:\n",
    "    print(data[1])\n",
    "        \n",
    "conn.commit()\n",
    "\n",
    "cur.close()\n",
    "conn.close()"
   ]
  },
  {
   "cell_type": "markdown",
   "metadata": {},
   "source": [
    "##### Geospatial Data Insertion (Newyork)\n",
    "\n",
    "사실 실제 프로젝트에서는 이미 데이터베이스 데이터가 저장되어있기 때문에 insertion 단계가 필요없음."
   ]
  },
  {
   "cell_type": "code",
   "execution_count": null,
   "metadata": {},
   "outputs": [],
   "source": [
    "import json\n",
    "\n",
    "json_file_path = './data/citibike_stations_sample.json'\n",
    "with open(json_file_path, 'r') as file:\n",
    "    data = json.load(file)\n",
    "    \n",
    "print(data)"
   ]
  },
  {
   "cell_type": "code",
   "execution_count": 109,
   "metadata": {},
   "outputs": [
    {
     "name": "stdout",
     "output_type": "stream",
     "text": [
      "POINT(-74.0572714805603 40.74590996631558)\n"
     ]
    }
   ],
   "source": [
    "from sqlalchemy import create_engine, text\n",
    "import json\n",
    "from tabulate import tabulate\n",
    "\n",
    "json_file_path = './data/citibike_stations_sample.json'\n",
    "with open(json_file_path, 'r') as file:\n",
    "    data = json.load(file)\n",
    "\n",
    "# SQLAlchemy 엔진 생성\n",
    "DATABASE_URI =f'postgresql+psycopg2://{USER}:{PASSWORD}@{HOST}:{PORT}/{DATABASE}'\n",
    "engine = create_engine(DATABASE_URI)\n",
    "\n",
    "# query = \"SELECT * FROM citibike_stations LIMIT 5;\"\n",
    "# df = pd.read_sql(query, engine)\n",
    "\n",
    "with engine.connect() as conn:\n",
    "    # conn.execute(text(create_table_query))\n",
    "    # conn.execute(text(insert_query), data)\n",
    "    select_query = '''\n",
    "SELECT \n",
    "    ST_AsText(ST_MakePoint(longitude, latitude)) AS WKT\n",
    "FROM \n",
    "    citibike_stations\n",
    "WHERE \n",
    "    name = 'Leonard Gordon Park'\n",
    "'''\n",
    "    result = conn.execute(text(select_query))\n",
    "    rows = result.fetchall()\n",
    "    headers = result.keys()\n",
    "\n",
    "wkt_point = rows[0][0]\n",
    "print(wkt_point)\n",
    "# tabulate로 결과 출력\n",
    "table_string = tabulate(rows, headers, tablefmt=\"psql\")"
   ]
  },
  {
   "cell_type": "code",
   "execution_count": 104,
   "metadata": {},
   "outputs": [
    {
     "name": "stdout",
     "output_type": "stream",
     "text": [
      "[\n",
      "  {\n",
      "    \"column_name\":\"last_reported\",\n",
      "    \"data_type\":\"timestamp without time zone\",\n",
      "    \"is_nullable\":\"YES\"\n",
      "  },\n",
      "  {\n",
      "    \"column_name\":\"is_installed\",\n",
      "    \"data_type\":\"boolean\",\n",
      "    \"is_nullable\":\"YES\"\n",
      "  },\n",
      "  {\n",
      "    \"column_name\":\"is_renting\",\n",
      "    \"data_type\":\"boolean\",\n",
      "    \"is_nullable\":\"YES\"\n",
      "  },\n",
      "  {\n",
      "    \"column_name\":\"is_returning\",\n",
      "    \"data_type\":\"boolean\",\n",
      "    \"is_nullable\":\"YES\"\n",
      "  },\n",
      "  {\n",
      "    \"column_name\":\"eightd_has_available_keys\",\n",
      "    \"data_type\":\"boolean\",\n",
      "    \"is_nullable\":\"YES\"\n",
      "  },\n",
      "  {\n",
      "    \"column_name\":\"latitude\",\n",
      "    \"data_type\":\"double precision\",\n",
      "    \"is_nullable\":\"YES\"\n",
      "  },\n",
      "  {\n",
      "    \"column_name\":\"longitude\",\n",
      "    \"data_type\":\"double precision\",\n",
      "    \"is_nullable\":\"YES\"\n",
      "  },\n",
      "  {\n",
      "    \"column_name\":\"region_id\",\n",
      "    \"data_type\":\"bigint\",\n",
      "    \"is_nullable\":\"YES\"\n",
      "  },\n",
      "  {\n",
      "    \"column_name\":\"capacity\",\n",
      "    \"data_type\":\"bigint\",\n",
      "    \"is_nullable\":\"YES\"\n",
      "  },\n",
      "  {\n",
      "    \"column_name\":\"eightd_has_key_dispenser\",\n",
      "    \"data_type\":\"boolean\",\n",
      "    \"is_nullable\":\"YES\"\n",
      "  },\n",
      "  {\n",
      "    \"column_name\":\"num_bikes_available\",\n",
      "    \"data_type\":\"bigint\",\n",
      "    \"is_nullable\":\"YES\"\n",
      "  },\n",
      "  {\n",
      "    \"column_name\":\"num_bikes_disabled\",\n",
      "    \"data_type\":\"bigint\",\n",
      "    \"is_nullable\":\"YES\"\n",
      "  },\n",
      "  {\n",
      "    \"column_name\":\"num_docks_available\",\n",
      "    \"data_type\":\"bigint\",\n",
      "    \"is_nullable\":\"YES\"\n",
      "  },\n",
      "  {\n",
      "    \"column_name\":\"num_docks_disabled\",\n",
      "    \"data_type\":\"bigint\",\n",
      "    \"is_nullable\":\"YES\"\n",
      "  },\n",
      "  {\n",
      "    \"column_name\":\"name\",\n",
      "    \"data_type\":\"character varying\",\n",
      "    \"is_nullable\":\"YES\"\n",
      "  },\n",
      "  {\n",
      "    \"column_name\":\"short_name\",\n",
      "    \"data_type\":\"character varying\",\n",
      "    \"is_nullable\":\"YES\"\n",
      "  },\n",
      "  {\n",
      "    \"column_name\":\"station_id\",\n",
      "    \"data_type\":\"character varying\",\n",
      "    \"is_nullable\":\"NO\"\n",
      "  },\n",
      "  {\n",
      "    \"column_name\":\"rental_methods\",\n",
      "    \"data_type\":\"character varying\",\n",
      "    \"is_nullable\":\"YES\"\n",
      "  }\n",
      "]\n"
     ]
    }
   ],
   "source": [
    "from sqlalchemy import create_engine, text\n",
    "import pandas as pd\n",
    "import json\n",
    "\n",
    "# SQLAlchemy 엔진 생성\n",
    "DATABASE_URI = f'postgresql+psycopg2://{USER}:{PASSWORD}@{HOST}:{PORT}/{DATABASE}'\n",
    "engine = create_engine(DATABASE_URI)\n",
    "\n",
    "# SELECT 쿼리 (citibike_stations 테이블의 스키마 정보 가져오기)\n",
    "query = '''\n",
    "SELECT\n",
    "    column_name,\n",
    "    data_type,\n",
    "    is_nullable\n",
    "FROM\n",
    "    INFORMATION_SCHEMA.COLUMNS\n",
    "WHERE\n",
    "    table_name = 'citibike_stations'\n",
    "'''\n",
    "\n",
    "# pandas를 사용하여 SQL 실행 후 DataFrame으로 변환\n",
    "df = pd.read_sql(query, engine)\n",
    "\n",
    "# DataFrame을 JSON으로 변환\n",
    "json_output = df.to_json(orient='records', indent=2)\n",
    "\n",
    "# JSON 결과 출력\n",
    "print(json_output)"
   ]
  },
  {
   "cell_type": "code",
   "execution_count": 105,
   "metadata": {},
   "outputs": [
    {
     "data": {
      "text/plain": [
       "'POINT(-74.0572714805603 40.74590996631558)'"
      ]
     },
     "execution_count": 105,
     "metadata": {},
     "output_type": "execute_result"
    }
   ],
   "source": [
    "wkt_point"
   ]
  },
  {
   "cell_type": "code",
   "execution_count": 82,
   "metadata": {},
   "outputs": [
    {
     "name": "stdout",
     "output_type": "stream",
     "text": [
      "+--------------------------------------------+\n",
      "| wkt_location                               |\n",
      "|--------------------------------------------|\n",
      "| POINT(-74.0572714805603 40.74590996631558) |\n",
      "+--------------------------------------------+\n"
     ]
    }
   ],
   "source": [
    "print(table_string)"
   ]
  },
  {
   "cell_type": "code",
   "execution_count": 55,
   "metadata": {},
   "outputs": [],
   "source": [
    "########## bigquery와 직접 연동하는 방법 (지금은 .csv 파일로 데이터 저장해둬서 불필요) ########## \n",
    "# !pip install google-cloud-bigquery\n",
    "# !pip install db-dtypes\n",
    "\n",
    "import glob\n",
    "from google.cloud import bigquery\n",
    "from google.oauth2 import service_account\n",
    "\n",
    "# 서비스 계정 키 JSON 파일 경로\n",
    "key_path = glob.glob(\"./config/*.json\")[0]\n",
    "\n",
    "# Credentials 객체 생성\n",
    "credentials = service_account.Credentials.from_service_account_file(key_path)\n",
    "\n",
    "# BigQuery 클라이언트 설정\n",
    "client = bigquery.Client(credentials = credentials, project = credentials.project_id)"
   ]
  },
  {
   "cell_type": "markdown",
   "metadata": {},
   "source": [
    "#### OpenAI Connection"
   ]
  },
  {
   "cell_type": "code",
   "execution_count": 41,
   "metadata": {},
   "outputs": [
    {
     "name": "stdout",
     "output_type": "stream",
     "text": [
      "Answer: Hello! How can I assist you today?\n"
     ]
    }
   ],
   "source": [
    "OPENAI_API_KEY = os.getenv(\"OPENAI_API_KEY\")\n",
    "\n",
    "llm = OpenAI(api_key=OPENAI_API_KEY)\n",
    "prompt = f'hi'\n",
    "\n",
    "response = llm.chat.completions.create(\n",
    "        model='gpt-4o-mini',\n",
    "        messages=[\n",
    "            {\"role\": \"user\", \"content\": prompt},\n",
    "        ],\n",
    "        temperature=0\n",
    "    )\n",
    "\n",
    "print('Answer:', response.choices[0].message.content)"
   ]
  },
  {
   "cell_type": "code",
   "execution_count": 90,
   "metadata": {},
   "outputs": [
    {
     "name": "stdout",
     "output_type": "stream",
     "text": [
      "Collecting shapely\n",
      "  Downloading shapely-2.0.6-cp311-cp311-macosx_11_0_arm64.whl.metadata (7.0 kB)\n",
      "Requirement already satisfied: numpy<3,>=1.14 in /Users/kunwooshin/openai-env/lib/python3.11/site-packages (from shapely) (1.26.2)\n",
      "Downloading shapely-2.0.6-cp311-cp311-macosx_11_0_arm64.whl (1.3 MB)\n",
      "\u001b[2K   \u001b[90m━━━━━━━━━━━━━━━━━━━━━━━━━━━━━━━━━━━━━━━━\u001b[0m \u001b[32m1.3/1.3 MB\u001b[0m \u001b[31m10.3 MB/s\u001b[0m eta \u001b[36m0:00:00\u001b[0m\n",
      "\u001b[?25hInstalling collected packages: shapely\n",
      "Successfully installed shapely-2.0.6\n",
      "Note: you may need to restart the kernel to use updated packages.\n"
     ]
    }
   ],
   "source": [
    "pip install shapely"
   ]
  },
  {
   "cell_type": "markdown",
   "metadata": {},
   "source": [
    "#### Folium Tutorial"
   ]
  },
  {
   "cell_type": "code",
   "execution_count": 99,
   "metadata": {},
   "outputs": [
    {
     "data": {
      "text/plain": [
       "str"
      ]
     },
     "execution_count": 99,
     "metadata": {},
     "output_type": "execute_result"
    }
   ],
   "source": [
    "type(wkt_point)"
   ]
  },
  {
   "cell_type": "code",
   "execution_count": 103,
   "metadata": {},
   "outputs": [
    {
     "name": "stdout",
     "output_type": "stream",
     "text": [
      "[40.74590996631558, -74.0572714805603]\n"
     ]
    },
    {
     "data": {
      "text/html": [
       "<div style=\"width:100%;\"><div style=\"position:relative;width:100%;height:0;padding-bottom:60%;\"><span style=\"color:#565656\">Make this Notebook Trusted to load map: File -> Trust Notebook</span><iframe srcdoc=\"&lt;!DOCTYPE html&gt;\n",
       "&lt;html&gt;\n",
       "&lt;head&gt;\n",
       "    \n",
       "    &lt;meta http-equiv=&quot;content-type&quot; content=&quot;text/html; charset=UTF-8&quot; /&gt;\n",
       "    \n",
       "        &lt;script&gt;\n",
       "            L_NO_TOUCH = false;\n",
       "            L_DISABLE_3D = false;\n",
       "        &lt;/script&gt;\n",
       "    \n",
       "    &lt;style&gt;html, body {width: 100%;height: 100%;margin: 0;padding: 0;}&lt;/style&gt;\n",
       "    &lt;style&gt;#map {position:absolute;top:0;bottom:0;right:0;left:0;}&lt;/style&gt;\n",
       "    &lt;script src=&quot;https://cdn.jsdelivr.net/npm/leaflet@1.9.3/dist/leaflet.js&quot;&gt;&lt;/script&gt;\n",
       "    &lt;script src=&quot;https://code.jquery.com/jquery-3.7.1.min.js&quot;&gt;&lt;/script&gt;\n",
       "    &lt;script src=&quot;https://cdn.jsdelivr.net/npm/bootstrap@5.2.2/dist/js/bootstrap.bundle.min.js&quot;&gt;&lt;/script&gt;\n",
       "    &lt;script src=&quot;https://cdnjs.cloudflare.com/ajax/libs/Leaflet.awesome-markers/2.0.2/leaflet.awesome-markers.js&quot;&gt;&lt;/script&gt;\n",
       "    &lt;link rel=&quot;stylesheet&quot; href=&quot;https://cdn.jsdelivr.net/npm/leaflet@1.9.3/dist/leaflet.css&quot;/&gt;\n",
       "    &lt;link rel=&quot;stylesheet&quot; href=&quot;https://cdn.jsdelivr.net/npm/bootstrap@5.2.2/dist/css/bootstrap.min.css&quot;/&gt;\n",
       "    &lt;link rel=&quot;stylesheet&quot; href=&quot;https://netdna.bootstrapcdn.com/bootstrap/3.0.0/css/bootstrap-glyphicons.css&quot;/&gt;\n",
       "    &lt;link rel=&quot;stylesheet&quot; href=&quot;https://cdn.jsdelivr.net/npm/@fortawesome/fontawesome-free@6.2.0/css/all.min.css&quot;/&gt;\n",
       "    &lt;link rel=&quot;stylesheet&quot; href=&quot;https://cdnjs.cloudflare.com/ajax/libs/Leaflet.awesome-markers/2.0.2/leaflet.awesome-markers.css&quot;/&gt;\n",
       "    &lt;link rel=&quot;stylesheet&quot; href=&quot;https://cdn.jsdelivr.net/gh/python-visualization/folium/folium/templates/leaflet.awesome.rotate.min.css&quot;/&gt;\n",
       "    \n",
       "            &lt;meta name=&quot;viewport&quot; content=&quot;width=device-width,\n",
       "                initial-scale=1.0, maximum-scale=1.0, user-scalable=no&quot; /&gt;\n",
       "            &lt;style&gt;\n",
       "                #map_99eda75766847794026cbb4d53803c00 {\n",
       "                    position: relative;\n",
       "                    width: 100.0%;\n",
       "                    height: 100.0%;\n",
       "                    left: 0.0%;\n",
       "                    top: 0.0%;\n",
       "                }\n",
       "                .leaflet-container { font-size: 1rem; }\n",
       "            &lt;/style&gt;\n",
       "        \n",
       "&lt;/head&gt;\n",
       "&lt;body&gt;\n",
       "    \n",
       "    \n",
       "            &lt;div class=&quot;folium-map&quot; id=&quot;map_99eda75766847794026cbb4d53803c00&quot; &gt;&lt;/div&gt;\n",
       "        \n",
       "&lt;/body&gt;\n",
       "&lt;script&gt;\n",
       "    \n",
       "    \n",
       "            var map_99eda75766847794026cbb4d53803c00 = L.map(\n",
       "                &quot;map_99eda75766847794026cbb4d53803c00&quot;,\n",
       "                {\n",
       "                    center: [40.74590996631558, -74.0572714805603],\n",
       "                    crs: L.CRS.EPSG3857,\n",
       "                    zoom: 15,\n",
       "                    zoomControl: true,\n",
       "                    preferCanvas: false,\n",
       "                }\n",
       "            );\n",
       "\n",
       "            \n",
       "\n",
       "        \n",
       "    \n",
       "            var tile_layer_305de1d6f04ca06ce8c2a625c2f9d63a = L.tileLayer(\n",
       "                &quot;https://tile.openstreetmap.org/{z}/{x}/{y}.png&quot;,\n",
       "                {&quot;attribution&quot;: &quot;\\u0026copy; \\u003ca href=\\&quot;https://www.openstreetmap.org/copyright\\&quot;\\u003eOpenStreetMap\\u003c/a\\u003e contributors&quot;, &quot;detectRetina&quot;: false, &quot;maxNativeZoom&quot;: 19, &quot;maxZoom&quot;: 19, &quot;minZoom&quot;: 0, &quot;noWrap&quot;: false, &quot;opacity&quot;: 1, &quot;subdomains&quot;: &quot;abc&quot;, &quot;tms&quot;: false}\n",
       "            );\n",
       "        \n",
       "    \n",
       "            tile_layer_305de1d6f04ca06ce8c2a625c2f9d63a.addTo(map_99eda75766847794026cbb4d53803c00);\n",
       "        \n",
       "    \n",
       "            var marker_13868187ebd49598df0bbe3b188e4dc8 = L.marker(\n",
       "                [40.74590996631558, -74.0572714805603],\n",
       "                {}\n",
       "            ).addTo(map_99eda75766847794026cbb4d53803c00);\n",
       "        \n",
       "    \n",
       "        var popup_c96f0b934bd01c5ad0eb474f62a825cf = L.popup({&quot;maxWidth&quot;: &quot;100%&quot;});\n",
       "\n",
       "        \n",
       "            \n",
       "                var html_3af25cd156601f0f13842ac65050a0ea = $(`&lt;div id=&quot;html_3af25cd156601f0f13842ac65050a0ea&quot; style=&quot;width: 100.0%; height: 100.0%;&quot;&gt;WKT Point&lt;/div&gt;`)[0];\n",
       "                popup_c96f0b934bd01c5ad0eb474f62a825cf.setContent(html_3af25cd156601f0f13842ac65050a0ea);\n",
       "            \n",
       "        \n",
       "\n",
       "        marker_13868187ebd49598df0bbe3b188e4dc8.bindPopup(popup_c96f0b934bd01c5ad0eb474f62a825cf)\n",
       "        ;\n",
       "\n",
       "        \n",
       "    \n",
       "&lt;/script&gt;\n",
       "&lt;/html&gt;\" style=\"position:absolute;width:100%;height:100%;left:0;top:0;border:none !important;\" allowfullscreen webkitallowfullscreen mozallowfullscreen></iframe></div></div>"
      ],
      "text/plain": [
       "<folium.folium.Map at 0x1280e5e90>"
      ]
     },
     "execution_count": 103,
     "metadata": {},
     "output_type": "execute_result"
    }
   ],
   "source": [
    "from shapely import wkt\n",
    "import folium\n",
    "\n",
    "point = wkt.loads(wkt_point)\n",
    "\n",
    "coordinates = [point.y, point.x]\n",
    "# print(coordinates)\n",
    "\n",
    "mymap = folium.Map(location=coordinates, zoom_start=15)\n",
    "folium.Marker(location=coordinates, popup=f\"WKT Point\").add_to(mymap)\n",
    "\n",
    "\n",
    "mymap"
   ]
  },
  {
   "cell_type": "code",
   "execution_count": 2,
   "metadata": {},
   "outputs": [],
   "source": [
    "import json\n",
    "\n",
    "with open('/Users/kunwooshin/Desktop/askgeo/data/metadata/spatialdb_desc.json', 'r') as file:\n",
    "    data = json.load(file)"
   ]
  },
  {
   "cell_type": "code",
   "execution_count": 5,
   "metadata": {},
   "outputs": [
    {
     "data": {
      "text/plain": [
       "[{'table_name': 'citibike_stations',\n",
       "  'table_description': 'The New York City Citi Bike Stations dataset provides detailed information about Citi Bike stations across the city, including their locations, statuses, and availability.'}]"
      ]
     },
     "execution_count": 5,
     "metadata": {},
     "output_type": "execute_result"
    }
   ],
   "source": [
    "data"
   ]
  },
  {
   "cell_type": "code",
   "execution_count": null,
   "metadata": {},
   "outputs": [],
   "source": []
  }
 ],
 "metadata": {
  "kernelspec": {
   "display_name": "openai-env",
   "language": "python",
   "name": "python3"
  },
  "language_info": {
   "codemirror_mode": {
    "name": "ipython",
    "version": 3
   },
   "file_extension": ".py",
   "mimetype": "text/x-python",
   "name": "python",
   "nbconvert_exporter": "python",
   "pygments_lexer": "ipython3",
   "version": "3.11.5"
  }
 },
 "nbformat": 4,
 "nbformat_minor": 2
}
